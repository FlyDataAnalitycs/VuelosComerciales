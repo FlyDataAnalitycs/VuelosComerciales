{
 "cells": [
  {
   "cell_type": "code",
   "execution_count": null,
   "metadata": {},
   "outputs": [],
   "source": [
    "from pyspark.sql import *\n",
    "import pandas as pd"
   ]
  },
  {
   "cell_type": "code",
   "execution_count": null,
   "metadata": {},
   "outputs": [],
   "source": [
    "jdbcHostname = \"servidorex.database.windows.net\"\n",
    "jdbcPort = 1433\n",
    "jdbcDatabase = \"SQL\"\n",
    "properties = {\n",
    "    \"user\" : \"pariona\",\n",
    "    \"password\" : \"@mbienteCon3l\",\n",
    "}\n",
    "url = \"jdbc:sqlserver://{0}:{1};database={2}\".format(jdbcHostname, jdbcPort, jdbcDatabase)"
   ]
  },
  {
   "cell_type": "code",
   "execution_count": null,
   "metadata": {},
   "outputs": [],
   "source": [
    "# Conectar a SQL Server la tabla de arrtime\n",
    "arrtime = spark.sql(\"SELECT * FROM arrtime\")\n",
    "ArrTime = DataFrameWriter(arrtime)\n",
    "ArrTime.jdbc(url=url, table=\"dbo.arrtime\", mode=\"overwrite\", properties=properties)"
   ]
  },
  {
   "cell_type": "code",
   "execution_count": null,
   "metadata": {},
   "outputs": [],
   "source": [
    "# Conectar a SQL Server la tabla de depttime\n",
    "depttime = spark.sql(\"SELECT * FROM depttime\")\n",
    "DeptTime = DataFrameWriter(depttime)\n",
    "DeptTime.jdbc(url=url, table=\"dbo.depttime\", mode=\"overwrite\", properties=properties)"
   ]
  },
  {
   "cell_type": "code",
   "execution_count": null,
   "metadata": {},
   "outputs": [],
   "source": [
    "# Conectar a SQL Server la tabla de estadovuelo\n",
    "estadovuelo = spark.sql(\"SELECT * FROM estadovuelo\")\n",
    "EstadoVuelo = DataFrameWriter(estadovuelo)\n",
    "EstadoVuelo.jdbc(url=url, table=\"dbo.estadovuelo\", mode=\"overwrite\", properties=properties)"
   ]
  },
  {
   "cell_type": "code",
   "execution_count": null,
   "metadata": {},
   "outputs": [],
   "source": [
    "# Conectar a SQL Server la tabla de aeropuertos\n",
    "aeropuerto = spark.sql(\"SELECT * FROM aeropuerto\")\n",
    "Aeropuerto = DataFrameWriter(aeropuerto)  \n",
    "Aeropuerto.jdbc(url=url, table=\"dbo.aeropuerto\", mode=\"overwrite\", properties=properties)"
   ]
  },
  {
   "cell_type": "code",
   "execution_count": null,
   "metadata": {},
   "outputs": [],
   "source": [
    "# Conectar a SQL Server la tabla de aerolineas\n",
    "aerolinea = spark.sql(\"SELECT * FROM aerolinea\")\n",
    "Aerolinea = DataFrameWriter(aerolinea)\n",
    "Aerolinea.jdbc(url=url, table=\"dbo.aerolinea\", mode=\"overwrite\", properties=properties)"
   ]
  },
  {
   "cell_type": "code",
   "execution_count": null,
   "metadata": {},
   "outputs": [],
   "source": [
    "# Conectar a SQL Server la tabla de vuelos\n",
    "vuelos = spark.sql(\"SELECT * FROM vuelos\")\n",
    "Vuelos = DataFrameWriter(vuelos)\n",
    "Vuelos.jdbc(url=url, table=\"dbo.vuelos\", mode=\"overwrite\", properties=properties)"
   ]
  }
 ],
 "metadata": {
  "kernelspec": {
   "display_name": "Python 3.8.5 32-bit",
   "language": "python",
   "name": "python3"
  },
  "language_info": {
   "name": "python",
   "version": "3.8.5"
  },
  "orig_nbformat": 4,
  "vscode": {
   "interpreter": {
    "hash": "e0784752781a6d909a602a7d3022c4f4bee7a870c3a195c2e9353548b6665c26"
   }
  }
 },
 "nbformat": 4,
 "nbformat_minor": 2
}
