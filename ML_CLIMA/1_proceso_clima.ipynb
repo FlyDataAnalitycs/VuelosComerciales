{
 "cells": [
  {
   "cell_type": "code",
   "execution_count": 2,
   "metadata": {},
   "outputs": [],
   "source": [
    "import pandas as pd\n",
    "import numpy as np\n",
    "import matplotlib.pyplot as plt\n",
    "import seaborn as sns"
   ]
  },
  {
   "cell_type": "markdown",
   "metadata": {},
   "source": [
    "### Datos de vuelos cancelados por clima en los ultimos 5  años"
   ]
  },
  {
   "cell_type": "code",
   "execution_count": 3,
   "metadata": {},
   "outputs": [],
   "source": [
    "clima = pd.read_csv('clima_cancelados1.csv')\n",
    "\n",
    "# Eliminando las columnas snow y wpgt\n",
    "clima = clima.drop(['snow', 'wpgt'], axis=1)\n",
    "\n",
    "# Eliminando las filas con valores nulos en coberura_nubes\n",
    "clima = clima.dropna(subset=['coco'])\n",
    "\n",
    "# Reemplazando los valores nulos con el promedio de la columna\n",
    "clima = clima.fillna(clima.mean())\n",
    "\n",
    "clima.rename(columns={'temp': 'temperatura'}, inplace=True)\n",
    "clima.rename(columns={'prcp': 'precipitacion'}, inplace=True)\n",
    "clima.rename(columns={'wdir': 'direccion_viento'}, inplace=True)\n",
    "clima.rename(columns={'wspd': 'velocidad_viento'}, inplace=True)\n",
    "clima.rename(columns={'pres': 'presion'}, inplace=True)\n",
    "clima.rename(columns={'coco': 'cobertura_nubes'}, inplace=True)\n",
    "\n",
    "# Agregar una columna llamada 'bool' que sea 0 para todos los valores\n",
    "clima['bool'] = 0\n",
    "\n",
    "# Establecer a ID_Vuelo\n",
    "clima.set_index('ID_Vuelo', inplace=True)"
   ]
  },
  {
   "cell_type": "code",
   "execution_count": 4,
   "metadata": {},
   "outputs": [
    {
     "name": "stdout",
     "output_type": "stream",
     "text": [
      "<class 'pandas.core.frame.DataFrame'>\n",
      "Int64Index: 29194 entries, 8117400 to 30120708\n",
      "Data columns (total 7 columns):\n",
      " #   Column            Non-Null Count  Dtype  \n",
      "---  ------            --------------  -----  \n",
      " 0   temperatura       29194 non-null  float64\n",
      " 1   precipitacion     29194 non-null  float64\n",
      " 2   direccion_viento  29194 non-null  float64\n",
      " 3   velocidad_viento  29194 non-null  float64\n",
      " 4   presion           29194 non-null  float64\n",
      " 5   cobertura_nubes   29194 non-null  float64\n",
      " 6   bool              29194 non-null  int64  \n",
      "dtypes: float64(6), int64(1)\n",
      "memory usage: 1.8 MB\n"
     ]
    }
   ],
   "source": [
    "clima.info()"
   ]
  },
  {
   "cell_type": "code",
   "execution_count": 5,
   "metadata": {},
   "outputs": [],
   "source": [
    "# Exportar el documento a un nuevo csv\n",
    "clima.to_csv('clima_cancelados2.csv')"
   ]
  },
  {
   "cell_type": "markdown",
   "metadata": {},
   "source": [
    "### Datos de vuelos exitosos "
   ]
  },
  {
   "cell_type": "markdown",
   "metadata": {},
   "source": [
    "#### Obteniendo una data muestral"
   ]
  },
  {
   "cell_type": "code",
   "execution_count": null,
   "metadata": {},
   "outputs": [],
   "source": [
    "# Importar los datos de vueloSC.csv y sin encabezado\n",
    "vuelo_exitoso = pd.read_csv('vuelo_exitoso_all.csv', header=None)\n",
    "# Asignar los nombres de las columnas\n",
    "vuelo_exitoso.columns = ['Anio','Mes','Dia','ID_Vuelo','ID_Aeropuerto_O','Hora_SalidaR','Latitud','Longitud']\n",
    "# Establecer a ID_Vuelo como indice\n",
    "vuelo_exitoso.set_index('ID_Vuelo', inplace=True)"
   ]
  },
  {
   "cell_type": "code",
   "execution_count": null,
   "metadata": {},
   "outputs": [],
   "source": [
    "# Extraer aleatoriamente 300000 datos de vuelo_exitoso y guardarlos en vuelo_exitoso2\n",
    "vuelo_exitoso2 = vuelo_exitoso.sample(n=300000, random_state=1)\n",
    "\n",
    "# Exportar el documento a un nuevo csv\n",
    "vuelo_exitoso2.to_csv('vuelo_exitoso_sample.csv')"
   ]
  },
  {
   "cell_type": "markdown",
   "metadata": {},
   "source": [
    "### Datos de vuelos exitosos del 2018"
   ]
  },
  {
   "cell_type": "code",
   "execution_count": 6,
   "metadata": {},
   "outputs": [],
   "source": [
    "# Abrir el documento csv cancel_clima.csv\n",
    "climaE = pd.read_csv('clima_exitosos1.csv')\n",
    "\n",
    "# Eliminando las columnas snow y wpgt, dado que carecen de datos\n",
    "climaE = climaE.drop(['snow', 'wpgt'], axis=1)\n",
    "\n",
    "# Eliminando las filas con valores nulos en coco\n",
    "climaE = climaE.dropna(subset=['coco'])\n",
    "\n",
    "# Reemplazando los valores nulos con el promedio de la columna\n",
    "climaE = climaE.fillna(climaE.mean())\n",
    "\n",
    "# Cambiando el nombre de las columnas\n",
    "climaE.rename(columns={'temp': 'temperatura'}, inplace=True)\n",
    "climaE.rename(columns={'prcp': 'precipitacion'}, inplace=True)\n",
    "climaE.rename(columns={'wdir': 'direccion_viento'}, inplace=True)\n",
    "climaE.rename(columns={'wspd': 'velocidad_viento'}, inplace=True)\n",
    "climaE.rename(columns={'pres': 'presion'}, inplace=True)\n",
    "climaE.rename(columns={'coco': 'cobertura_nubes'}, inplace=True)\n",
    "\n",
    "# Agregando una columna llamada 'bool' que sea 0 para todos los valores\n",
    "climaE['bool'] = 1\n",
    "\n",
    "# Estableciendo a ID_Vuelo\n",
    "climaE.set_index('ID_Vuelo', inplace=True)"
   ]
  },
  {
   "cell_type": "code",
   "execution_count": 7,
   "metadata": {},
   "outputs": [
    {
     "name": "stdout",
     "output_type": "stream",
     "text": [
      "<class 'pandas.core.frame.DataFrame'>\n",
      "Int64Index: 98382 entries, 25624480 to 24665581\n",
      "Data columns (total 7 columns):\n",
      " #   Column            Non-Null Count  Dtype  \n",
      "---  ------            --------------  -----  \n",
      " 0   temperatura       98382 non-null  float64\n",
      " 1   precipitacion     98382 non-null  float64\n",
      " 2   direccion_viento  98382 non-null  float64\n",
      " 3   velocidad_viento  98382 non-null  float64\n",
      " 4   presion           98382 non-null  float64\n",
      " 5   cobertura_nubes   98382 non-null  float64\n",
      " 6   bool              98382 non-null  int64  \n",
      "dtypes: float64(6), int64(1)\n",
      "memory usage: 6.0 MB\n"
     ]
    }
   ],
   "source": [
    "climaE.info()"
   ]
  },
  {
   "cell_type": "code",
   "execution_count": 8,
   "metadata": {},
   "outputs": [],
   "source": [
    "# Manteniendo aleatoriamente 29194 datos de clima y guardarlos en climaE\n",
    "climaE = climaE.sample(n=29194, random_state=1)\n",
    "\n",
    "# Exportando el documento a un nuevo csv\n",
    "climaE.to_csv('clima_exitosos2.csv')"
   ]
  }
 ],
 "metadata": {
  "kernelspec": {
   "display_name": "Python 3.8.5 32-bit",
   "language": "python",
   "name": "python3"
  },
  "language_info": {
   "codemirror_mode": {
    "name": "ipython",
    "version": 3
   },
   "file_extension": ".py",
   "mimetype": "text/x-python",
   "name": "python",
   "nbconvert_exporter": "python",
   "pygments_lexer": "ipython3",
   "version": "3.8.5"
  },
  "orig_nbformat": 4,
  "vscode": {
   "interpreter": {
    "hash": "e0784752781a6d909a602a7d3022c4f4bee7a870c3a195c2e9353548b6665c26"
   }
  }
 },
 "nbformat": 4,
 "nbformat_minor": 2
}
