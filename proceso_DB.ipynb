{
 "cells": [
  {
   "cell_type": "code",
   "execution_count": 1,
   "metadata": {},
   "outputs": [],
   "source": [
    "#dbutils.fs.mount(\n",
    "#  source = \"wasbs://CONTENEDOR@BLOB.blob.core.windows.net/\",\n",
    "#  mount_point = \"/mnt/NOMBRE_MONTADO\",\n",
    "#  extra_configs = {\"fs.azure.account.key.BLOB.blob.core.windows.net\":\"TOKEN\"})"
   ]
  },
  {
   "cell_type": "code",
   "execution_count": null,
   "metadata": {},
   "outputs": [],
   "source": [
    "df=spark.read.format('csv').option('header',True).option('inferSchema',True).load('/mnt/containing/vuelo')"
   ]
  },
  {
   "cell_type": "code",
   "execution_count": null,
   "metadata": {},
   "outputs": [],
   "source": [
    "import pandas as pd\n",
    "from pyspark.sql import *\n",
    "from pyspark.sql.functions import *\n",
    "\n",
    "vuelos= df.toPandas()"
   ]
  },
  {
   "cell_type": "code",
   "execution_count": null,
   "metadata": {},
   "outputs": [],
   "source": [
    "# CAMBIANDO LOS NOMBRES DE TODAS LAS COLUMNAS\n",
    "\n",
    "vuelos.rename(columns={'Year':'Anio'}, inplace=True)\n",
    "vuelos.rename(columns={'Month':'Mes'}, inplace=True)\n",
    "vuelos.rename(columns={'DayofMonth':'Dia'}, inplace=True)\n",
    "vuelos.rename(columns={'DayOfWeek':'Dia_Sem'}, inplace=True)\n",
    "vuelos.rename(columns={'OP_CARRIER':'ID_Aerolinea'}, inplace=True)\n",
    "vuelos.rename(columns={'ORIGIN':'ID_Aeropuerto_O'}, inplace=True)\n",
    "vuelos.rename(columns={'DEST':'ID_Aeropuerto_D'}, inplace=True)\n",
    "vuelos.rename(columns={'DEP_TIME':'Hora_SalidaR'}, inplace=True)\n",
    "vuelos.rename(columns={'CRS_DEP_TIME':'Hora_SalidaP'}, inplace=True)\n",
    "vuelos.rename(columns={'ARR_TIME':'Hora_LlegadaR'}, inplace=True)\n",
    "vuelos.rename(columns={'CRS_ARR_TIME':'Hora_LlegadaP'}, inplace=True)\n",
    "vuelos.rename(columns={'CRS_ELAPSED_TIME':'Duracion_Promedio'}, inplace=True)\n",
    "vuelos.rename(columns={'ARR_DELAY':'Retraso_Llegada'}, inplace=True)\n",
    "vuelos.rename(columns={'DEP_DELAY':'Retraso_Salida'}, inplace=True)\n",
    "vuelos.rename(columns={'DISTANCE':'Distancia'}, inplace=True)\n",
    "vuelos.rename(columns={'CANCELLED':'Cancelado'}, inplace=True)\n",
    "vuelos.rename(columns={'CANCELLATION_CODE':'Codigo_Cancelacion'}, inplace=True)\n",
    "vuelos.rename(columns={'CARRIER_DELAY':'Retraso_Aerolinea'}, inplace=True)\n",
    "vuelos.rename(columns={'WEATHER_DELAY':'Retraso_Clima'}, inplace=True)\n",
    "vuelos.rename(columns={'NAS_DELAY':'Retraso_NAS'}, inplace=True)\n",
    "vuelos.rename(columns={'SECURITY_DELAY':'Retraso_Seguridad'}, inplace=True)\n",
    "vuelos.rename(columns={'LATE_AIRCRAFT_DELAY':'Retraso_Aeronave'}, inplace=True)\n",
    "\n",
    "# Reordenamos las columnas\n",
    "vuelos = vuelos[['Anio', 'Mes', 'Dia', 'Dia_Sem', 'ID_Aerolinea', 'ID_Aeropuerto_O', 'ID_Aeropuerto_D', 'Hora_SalidaR',\n",
    " 'Hora_SalidaP', 'Hora_LlegadaR', 'Hora_LlegadaP', 'Duracion_Promedio', 'Retraso_Llegada', 'Retraso_Salida', 'Distancia', \n",
    " 'Cancelado', 'Codigo_Cancelacion', 'Retraso_Aerolinea', 'Retraso_Clima', 'Retraso_NAS', 'Retraso_Seguridad', \n",
    " 'Retraso_Aeronave']]"
   ]
  },
  {
   "cell_type": "code",
   "execution_count": null,
   "metadata": {},
   "outputs": [],
   "source": [
    "import numpy as np\n",
    "\n",
    "# Crear una columna 'Estado_Vuelo', que tome valores 'Codigo_Cancelacion'\n",
    "vuelos['ID_EstadoVuelo'] = np.where(vuelos['Codigo_Cancelacion'].notnull(), vuelos['Codigo_Cancelacion'], np.where(vuelos['Cancelado'] == 1, 'ND', 'E'))\n",
    "\n",
    "# Eliminar columna 'Codigo_Cancelacion'\n",
    "vuelos.drop('Codigo_Cancelacion', axis=1, inplace=True)\n",
    "vuelos.drop('Cancelado', axis=1, inplace=True)\n",
    "\n",
    "# Eliminar las columnas de retrasos\n",
    "vuelos.drop('Retraso_Aerolinea', axis=1, inplace=True)\n",
    "vuelos.drop('Retraso_NAS', axis=1, inplace=True)\n",
    "vuelos.drop('Retraso_Seguridad', axis=1, inplace=True)\n",
    "vuelos.drop('Retraso_Aeronave', axis=1, inplace=True) \n",
    "vuelos.drop('Retraso_Clima', axis=1, inplace=True)\n",
    "\n",
    "\n",
    "# Creando una columna de 'Partida_A_Tiempo', A: 'Retraso_Salida' <= 0, B: 0 < 'Retraso_Salida' <= 15, C: 'Retraso_Salida' > 15, NE: 'Retraso_Salida' = NaN\n",
    "vuelos['ID_DepTime'] = np.where(vuelos['Retraso_Salida'] <= 0, 'A', np.where(vuelos['Retraso_Salida'] <= 15, 'B', np.where(vuelos['Retraso_Salida'] > 15, 'C', 'ND')))\n",
    "\n",
    "# Creando una columna de 'Llegada_A_Tiempo', A: 'Retraso_Llegada' <= 0, B: 0 < 'Retraso_Llegada' <= 15, C: 'Retraso_Llegada' > 15, NE: 'Retraso_Llegada' = NaN\n",
    "vuelos['ID_ArrTime'] = np.where(vuelos['Retraso_Llegada'] <= 0, 'A', np.where(vuelos['Retraso_Llegada'] <= 15, 'B', np.where(vuelos['Retraso_Llegada'] > 15, 'C', 'ND')))\n",
    "\n",
    "# Eliminar las columnas de retrasos\n",
    "vuelos.drop('Retraso_Llegada', axis=1, inplace=True)\n",
    "vuelos.drop('Retraso_Salida', axis=1, inplace=True)\n",
    "\n",
    "vuelos = vuelos.sample(frac=0.02, random_state=1)"
   ]
  },
  {
   "cell_type": "code",
   "execution_count": null,
   "metadata": {},
   "outputs": [],
   "source": [
    "S_vuelo = spark.createDataFrame(vuelos)\n",
    "\n",
    "# if not spark.catalog.tableExists(\"vuelo2018\"):\n",
    "#     S_vuelo.write.saveAsTable(\"vuelo2018\")\n",
    "\n"
   ]
  },
  {
   "cell_type": "code",
   "execution_count": null,
   "metadata": {},
   "outputs": [],
   "source": [
    "%sql\n",
    "SELECT * FROM vuelo2018"
   ]
  },
  {
   "cell_type": "code",
   "execution_count": null,
   "metadata": {},
   "outputs": [],
   "source": [
    "jdbcHostname = \"SERVIDOR.database.windows.net\"\n",
    "jdbcPort = 1433\n",
    "jdbcDatabase = \"BASE DE DATOS\"\n",
    "properties = {\n",
    "    \"user\" : \"USUARIO\",\n",
    "    \"password\" : \"CONTRASEÑA\",\n",
    "}\n",
    "url = \"jdbc:sqlserver://{0}:{1};database={2}\".format(jdbcHostname, jdbcPort, jdbcDatabase)"
   ]
  },
  {
   "cell_type": "code",
   "execution_count": null,
   "metadata": {},
   "outputs": [],
   "source": [
    "# Conectar a SQL Server la tabla de vuelos\n",
    "if not spark.catalog.tableExists(\"v2018\"):\n",
    "    v2018 = spark.sql(\"SELECT * FROM vuelo2018\")\n",
    "    V2018 = DataFrameWriter(v2018)\n",
    "    V2018.jdbc(url=url, table=\"dbo.V2018\", mode=\"overwrite\", properties=properties)"
   ]
  }
 ],
 "metadata": {
  "kernelspec": {
   "display_name": "Python 3.8.5 32-bit",
   "language": "python",
   "name": "python3"
  },
  "language_info": {
   "codemirror_mode": {
    "name": "ipython",
    "version": 3
   },
   "file_extension": ".py",
   "mimetype": "text/x-python",
   "name": "python",
   "nbconvert_exporter": "python",
   "pygments_lexer": "ipython3",
   "version": "3.8.5"
  },
  "orig_nbformat": 4,
  "vscode": {
   "interpreter": {
    "hash": "e0784752781a6d909a602a7d3022c4f4bee7a870c3a195c2e9353548b6665c26"
   }
  }
 },
 "nbformat": 4,
 "nbformat_minor": 2
}
