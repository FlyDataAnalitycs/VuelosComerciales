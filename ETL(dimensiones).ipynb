{
 "cells": [
  {
   "cell_type": "code",
   "execution_count": 1,
   "metadata": {},
   "outputs": [],
   "source": [
    "# Importamos la data necesaria para el proceso\n",
    "import pandas as pd\n",
    "import numpy as np\n",
    "import matplotlib.pyplot as plt\n",
    "import seaborn as sns"
   ]
  },
  {
   "cell_type": "code",
   "execution_count": 2,
   "metadata": {},
   "outputs": [],
   "source": [
    "aerolineas = pd.read_csv('carriers.csv')\n",
    "aeropuertos = pd.read_csv('airports.csv')"
   ]
  },
  {
   "cell_type": "code",
   "execution_count": 3,
   "metadata": {},
   "outputs": [],
   "source": [
    "# Cambiar el nombre de la columna AIRLINE por Aerrolinea e IATA_CODE por ID_Aerolinea\n",
    "aerolineas.rename(columns={'Code': 'ID_Aerolinea'}, inplace=True)\n",
    "aerolineas.rename(columns={'Description': 'Aerolinea'}, inplace=True)\n",
    "# Establecer a IATA_CODE como índice\n",
    "aerolineas.set_index('ID_Aerolinea', inplace=True)\n",
    "# Elimiar la fila que contiene los valores nulos\n",
    "aerolineas.dropna(inplace=True)"
   ]
  },
  {
   "cell_type": "code",
   "execution_count": 13,
   "metadata": {},
   "outputs": [
    {
     "data": {
      "text/plain": [
       "Aerolinea    America West Airlines Inc. (Merged with US Air...\n",
       "Name: HP, dtype: object"
      ]
     },
     "execution_count": 13,
     "metadata": {},
     "output_type": "execute_result"
    }
   ],
   "source": [
    "# Mostrar aerolineas con ID_Aerolinea = HP\n",
    "aerolineas.loc['HP']"
   ]
  },
  {
   "cell_type": "code",
   "execution_count": 4,
   "metadata": {},
   "outputs": [
    {
     "data": {
      "text/html": [
       "<div>\n",
       "<style scoped>\n",
       "    .dataframe tbody tr th:only-of-type {\n",
       "        vertical-align: middle;\n",
       "    }\n",
       "\n",
       "    .dataframe tbody tr th {\n",
       "        vertical-align: top;\n",
       "    }\n",
       "\n",
       "    .dataframe thead th {\n",
       "        text-align: right;\n",
       "    }\n",
       "</style>\n",
       "<table border=\"1\" class=\"dataframe\">\n",
       "  <thead>\n",
       "    <tr style=\"text-align: right;\">\n",
       "      <th></th>\n",
       "      <th>Aerolinea</th>\n",
       "    </tr>\n",
       "    <tr>\n",
       "      <th>ID_Aerolinea</th>\n",
       "      <th></th>\n",
       "    </tr>\n",
       "  </thead>\n",
       "  <tbody>\n",
       "    <tr>\n",
       "      <th>02Q</th>\n",
       "      <td>Titan Airways</td>\n",
       "    </tr>\n",
       "    <tr>\n",
       "      <th>04Q</th>\n",
       "      <td>Tradewind Aviation</td>\n",
       "    </tr>\n",
       "    <tr>\n",
       "      <th>05Q</th>\n",
       "      <td>Comlux Aviation, AG</td>\n",
       "    </tr>\n",
       "    <tr>\n",
       "      <th>06Q</th>\n",
       "      <td>Master Top Linhas Aereas Ltd.</td>\n",
       "    </tr>\n",
       "    <tr>\n",
       "      <th>07Q</th>\n",
       "      <td>Flair Airlines Ltd.</td>\n",
       "    </tr>\n",
       "  </tbody>\n",
       "</table>\n",
       "</div>"
      ],
      "text/plain": [
       "                                  Aerolinea\n",
       "ID_Aerolinea                               \n",
       "02Q                           Titan Airways\n",
       "04Q                      Tradewind Aviation\n",
       "05Q                     Comlux Aviation, AG\n",
       "06Q           Master Top Linhas Aereas Ltd.\n",
       "07Q                     Flair Airlines Ltd."
      ]
     },
     "execution_count": 4,
     "metadata": {},
     "output_type": "execute_result"
    }
   ],
   "source": [
    "aerolineas.head()"
   ]
  },
  {
   "cell_type": "code",
   "execution_count": 5,
   "metadata": {},
   "outputs": [],
   "source": [
    "# Eliminar las filas cuyo COUNTRY no sea USA\n",
    "aeropuertos = aeropuertos[aeropuertos['country'] == 'USA']\n",
    "# Eliminar la columna COUNTRY\n",
    "aeropuertos.drop(columns=['country'], inplace=True)\n",
    "\n",
    "# Cambiar los nombres de las columnas IATA_CODE por ID_Aeropuerto\n",
    "aeropuertos.rename(columns={'iata': 'ID_Aeropuerto'}, inplace=True)\n",
    "# Cambiar los nombres de las columnas AIRPORT por Aeropuerto\n",
    "aeropuertos.rename(columns={'airport': 'Aeropuerto'}, inplace=True)\n",
    "# Cambiar los nombres de las columnas CITY por Ciudad\n",
    "aeropuertos.rename(columns={'city': 'Ciudad'}, inplace=True)\n",
    "# Cambiar los nombres de las columnas STATE por Estado\n",
    "aeropuertos.rename(columns={'state': 'Estado'}, inplace=True)\n",
    "# Cambiar los nombres de las columnas LATITUDE por Latitud\n",
    "aeropuertos.rename(columns={'lat': 'Latitud'}, inplace=True)\n",
    "# Cambiar los nombres de las columnas LONGITUDE por Longitud\n",
    "aeropuertos.rename(columns={'long': 'Longitud'}, inplace=True)"
   ]
  },
  {
   "cell_type": "code",
   "execution_count": 6,
   "metadata": {},
   "outputs": [],
   "source": [
    "# Eliminar las filas cuyo ID_Aeropuerto sea nulo\n",
    "aeropuertos.dropna(subset=['ID_Aeropuerto'], inplace=True)\n",
    "\n",
    "# Establecer a ID_Aeropuerto como índice\n",
    "aeropuertos.set_index('ID_Aeropuerto', inplace=True)"
   ]
  },
  {
   "cell_type": "code",
   "execution_count": 15,
   "metadata": {},
   "outputs": [
    {
     "data": {
      "text/plain": [
       "Aeropuerto    William B Hartsfield-Atlanta Intl\n",
       "Ciudad                                  Atlanta\n",
       "Estado                                       GA\n",
       "Latitud                               33.640444\n",
       "Longitud                             -84.426944\n",
       "Name: ATL, dtype: object"
      ]
     },
     "execution_count": 15,
     "metadata": {},
     "output_type": "execute_result"
    }
   ],
   "source": [
    "# Mostrar aeropuertos con ID_Aeropuerto = ATL\n",
    "aeropuertos.loc['ATL']"
   ]
  },
  {
   "cell_type": "code",
   "execution_count": 7,
   "metadata": {},
   "outputs": [
    {
     "data": {
      "text/html": [
       "<div>\n",
       "<style scoped>\n",
       "    .dataframe tbody tr th:only-of-type {\n",
       "        vertical-align: middle;\n",
       "    }\n",
       "\n",
       "    .dataframe tbody tr th {\n",
       "        vertical-align: top;\n",
       "    }\n",
       "\n",
       "    .dataframe thead th {\n",
       "        text-align: right;\n",
       "    }\n",
       "</style>\n",
       "<table border=\"1\" class=\"dataframe\">\n",
       "  <thead>\n",
       "    <tr style=\"text-align: right;\">\n",
       "      <th></th>\n",
       "      <th>Aeropuerto</th>\n",
       "      <th>Ciudad</th>\n",
       "      <th>Estado</th>\n",
       "      <th>Latitud</th>\n",
       "      <th>Longitud</th>\n",
       "    </tr>\n",
       "    <tr>\n",
       "      <th>ID_Aeropuerto</th>\n",
       "      <th></th>\n",
       "      <th></th>\n",
       "      <th></th>\n",
       "      <th></th>\n",
       "      <th></th>\n",
       "    </tr>\n",
       "  </thead>\n",
       "  <tbody>\n",
       "    <tr>\n",
       "      <th>00M</th>\n",
       "      <td>Thigpen</td>\n",
       "      <td>Bay Springs</td>\n",
       "      <td>MS</td>\n",
       "      <td>31.953765</td>\n",
       "      <td>-89.234505</td>\n",
       "    </tr>\n",
       "    <tr>\n",
       "      <th>00R</th>\n",
       "      <td>Livingston Municipal</td>\n",
       "      <td>Livingston</td>\n",
       "      <td>TX</td>\n",
       "      <td>30.685861</td>\n",
       "      <td>-95.017928</td>\n",
       "    </tr>\n",
       "    <tr>\n",
       "      <th>00V</th>\n",
       "      <td>Meadow Lake</td>\n",
       "      <td>Colorado Springs</td>\n",
       "      <td>CO</td>\n",
       "      <td>38.945749</td>\n",
       "      <td>-104.569893</td>\n",
       "    </tr>\n",
       "    <tr>\n",
       "      <th>01G</th>\n",
       "      <td>Perry-Warsaw</td>\n",
       "      <td>Perry</td>\n",
       "      <td>NY</td>\n",
       "      <td>42.741347</td>\n",
       "      <td>-78.052081</td>\n",
       "    </tr>\n",
       "    <tr>\n",
       "      <th>01J</th>\n",
       "      <td>Hilliard Airpark</td>\n",
       "      <td>Hilliard</td>\n",
       "      <td>FL</td>\n",
       "      <td>30.688012</td>\n",
       "      <td>-81.905944</td>\n",
       "    </tr>\n",
       "  </tbody>\n",
       "</table>\n",
       "</div>"
      ],
      "text/plain": [
       "                         Aeropuerto            Ciudad Estado    Latitud  \\\n",
       "ID_Aeropuerto                                                             \n",
       "00M                        Thigpen        Bay Springs     MS  31.953765   \n",
       "00R            Livingston Municipal        Livingston     TX  30.685861   \n",
       "00V                     Meadow Lake  Colorado Springs     CO  38.945749   \n",
       "01G                    Perry-Warsaw             Perry     NY  42.741347   \n",
       "01J                Hilliard Airpark          Hilliard     FL  30.688012   \n",
       "\n",
       "                 Longitud  \n",
       "ID_Aeropuerto              \n",
       "00M            -89.234505  \n",
       "00R            -95.017928  \n",
       "00V           -104.569893  \n",
       "01G            -78.052081  \n",
       "01J            -81.905944  "
      ]
     },
     "execution_count": 7,
     "metadata": {},
     "output_type": "execute_result"
    }
   ],
   "source": [
    "aeropuertos.head()"
   ]
  }
 ],
 "metadata": {
  "kernelspec": {
   "display_name": "Python 3.8.5 32-bit",
   "language": "python",
   "name": "python3"
  },
  "language_info": {
   "codemirror_mode": {
    "name": "ipython",
    "version": 3
   },
   "file_extension": ".py",
   "mimetype": "text/x-python",
   "name": "python",
   "nbconvert_exporter": "python",
   "pygments_lexer": "ipython3",
   "version": "3.8.5"
  },
  "orig_nbformat": 4,
  "vscode": {
   "interpreter": {
    "hash": "e0784752781a6d909a602a7d3022c4f4bee7a870c3a195c2e9353548b6665c26"
   }
  }
 },
 "nbformat": 4,
 "nbformat_minor": 2
}
