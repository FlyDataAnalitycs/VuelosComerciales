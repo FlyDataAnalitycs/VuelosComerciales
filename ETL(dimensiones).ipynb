{
 "cells": [
  {
   "cell_type": "code",
   "execution_count": 20,
   "metadata": {},
   "outputs": [],
   "source": [
    "# Importamos la data necesaria para el proceso\n",
    "import pandas as pd\n",
    "import numpy as np\n",
    "import matplotlib.pyplot as plt\n",
    "import seaborn as sns"
   ]
  },
  {
   "cell_type": "markdown",
   "metadata": {},
   "source": [
    "## AEROLINEAS"
   ]
  },
  {
   "cell_type": "code",
   "execution_count": 21,
   "metadata": {},
   "outputs": [],
   "source": [
    "aerolineas = pd.read_csv('carriers.csv')\n",
    "aeropuertos = pd.read_csv('airports.csv')"
   ]
  },
  {
   "cell_type": "code",
   "execution_count": 22,
   "metadata": {},
   "outputs": [],
   "source": [
    "# Cambiando el nombre de la columna AIRLINE por Aerrolinea e IATA_CODE por ID_Aerolinea\n",
    "aerolineas.rename(columns={'Code': 'ID_Aerolinea'}, inplace=True)\n",
    "aerolineas.rename(columns={'Description': 'Aerolinea'}, inplace=True)\n",
    "\n",
    "# Estableciendo a IATA_CODE como índice\n",
    "aerolineas.set_index('ID_Aerolinea', inplace=True)\n",
    "# Eliminando la fila que contiene los valores nulos\n",
    "aerolineas.dropna(inplace=True)"
   ]
  },
  {
   "cell_type": "code",
   "execution_count": 23,
   "metadata": {},
   "outputs": [],
   "source": [
    "# Exportando la data a un archivo csv\n",
    "aerolineas.to_csv('aerolineas.csv')"
   ]
  },
  {
   "cell_type": "code",
   "execution_count": 24,
   "metadata": {},
   "outputs": [
    {
     "data": {
      "text/html": [
       "<div>\n",
       "<style scoped>\n",
       "    .dataframe tbody tr th:only-of-type {\n",
       "        vertical-align: middle;\n",
       "    }\n",
       "\n",
       "    .dataframe tbody tr th {\n",
       "        vertical-align: top;\n",
       "    }\n",
       "\n",
       "    .dataframe thead th {\n",
       "        text-align: right;\n",
       "    }\n",
       "</style>\n",
       "<table border=\"1\" class=\"dataframe\">\n",
       "  <thead>\n",
       "    <tr style=\"text-align: right;\">\n",
       "      <th></th>\n",
       "      <th>Aerolinea</th>\n",
       "    </tr>\n",
       "    <tr>\n",
       "      <th>ID_Aerolinea</th>\n",
       "      <th></th>\n",
       "    </tr>\n",
       "  </thead>\n",
       "  <tbody>\n",
       "    <tr>\n",
       "      <th>02Q</th>\n",
       "      <td>Titan Airways</td>\n",
       "    </tr>\n",
       "    <tr>\n",
       "      <th>04Q</th>\n",
       "      <td>Tradewind Aviation</td>\n",
       "    </tr>\n",
       "    <tr>\n",
       "      <th>05Q</th>\n",
       "      <td>Comlux Aviation, AG</td>\n",
       "    </tr>\n",
       "    <tr>\n",
       "      <th>06Q</th>\n",
       "      <td>Master Top Linhas Aereas Ltd.</td>\n",
       "    </tr>\n",
       "    <tr>\n",
       "      <th>07Q</th>\n",
       "      <td>Flair Airlines Ltd.</td>\n",
       "    </tr>\n",
       "  </tbody>\n",
       "</table>\n",
       "</div>"
      ],
      "text/plain": [
       "                                  Aerolinea\n",
       "ID_Aerolinea                               \n",
       "02Q                           Titan Airways\n",
       "04Q                      Tradewind Aviation\n",
       "05Q                     Comlux Aviation, AG\n",
       "06Q           Master Top Linhas Aereas Ltd.\n",
       "07Q                     Flair Airlines Ltd."
      ]
     },
     "execution_count": 24,
     "metadata": {},
     "output_type": "execute_result"
    }
   ],
   "source": [
    "aerolineas.head()"
   ]
  },
  {
   "cell_type": "markdown",
   "metadata": {},
   "source": [
    "### Verificando que no existan valores nulos"
   ]
  },
  {
   "cell_type": "code",
   "execution_count": 29,
   "metadata": {},
   "outputs": [],
   "source": [
    "# Importamos el csv de aerolineasEXP(Valores unicos de ID_aeropuertos de la tabla vuelos) y poner como nombre \n",
    "# de la columna a ID_Aerolinea\n",
    "aerolineasEXP = pd.read_csv('aerolineasEXP.csv', names=['ID_Aero'])"
   ]
  },
  {
   "cell_type": "code",
   "execution_count": 30,
   "metadata": {},
   "outputs": [
    {
     "data": {
      "text/html": [
       "<div>\n",
       "<style scoped>\n",
       "    .dataframe tbody tr th:only-of-type {\n",
       "        vertical-align: middle;\n",
       "    }\n",
       "\n",
       "    .dataframe tbody tr th {\n",
       "        vertical-align: top;\n",
       "    }\n",
       "\n",
       "    .dataframe thead th {\n",
       "        text-align: right;\n",
       "    }\n",
       "</style>\n",
       "<table border=\"1\" class=\"dataframe\">\n",
       "  <thead>\n",
       "    <tr style=\"text-align: right;\">\n",
       "      <th></th>\n",
       "      <th>ID_Aero</th>\n",
       "    </tr>\n",
       "  </thead>\n",
       "  <tbody>\n",
       "  </tbody>\n",
       "</table>\n",
       "</div>"
      ],
      "text/plain": [
       "Empty DataFrame\n",
       "Columns: [ID_Aero]\n",
       "Index: []"
      ]
     },
     "execution_count": 30,
     "metadata": {},
     "output_type": "execute_result"
    }
   ],
   "source": [
    "# Mostramos que valores de la columna ID_Aerolinea no se encuentran en la columna ID_Aero\n",
    "aerolineasEXP[~aerolineasEXP['ID_Aero'].isin(aerolineas.index)]"
   ]
  },
  {
   "cell_type": "markdown",
   "metadata": {},
   "source": [
    "## AEROPUERTOS"
   ]
  },
  {
   "cell_type": "code",
   "execution_count": 21,
   "metadata": {},
   "outputs": [],
   "source": [
    "# Eliminando las filas cuyo COUNTRY no sea USA\n",
    "aeropuertos = aeropuertos[aeropuertos['country'] == 'USA']\n",
    "# Eliminando la columna COUNTRY\n",
    "aeropuertos.drop(columns=['country'], inplace=True)\n",
    "\n",
    "\n",
    "aeropuertos.rename(columns={'iata': 'ID_Aeropuerto'}, inplace=True)\n",
    "aeropuertos.rename(columns={'airport': 'Aeropuerto'}, inplace=True)\n",
    "aeropuertos.rename(columns={'city': 'Ciudad'}, inplace=True)\n",
    "aeropuertos.rename(columns={'state': 'Estado'}, inplace=True)\n",
    "aeropuertos.rename(columns={'lat': 'Latitud'}, inplace=True)\n",
    "aeropuertos.rename(columns={'long': 'Longitud'}, inplace=True)"
   ]
  },
  {
   "cell_type": "markdown",
   "metadata": {},
   "source": [
    "### Agregando aeropuertos que faltaban en la base de datos"
   ]
  },
  {
   "cell_type": "code",
   "execution_count": 22,
   "metadata": {},
   "outputs": [],
   "source": [
    "# ID_Aeropuerto: UTM\n",
    "aeropuertos = pd.concat([aeropuertos, pd.DataFrame({'ID_Aeropuerto': ['UTM'], 'Aeropuerto': ['Tunica Municipal Airport'], 'Ciudad': ['Tunica'], 'Estado': ['MS'], 'Latitud': [34.6833], 'Longitud': [-90.35]})], ignore_index=True)"
   ]
  },
  {
   "cell_type": "code",
   "execution_count": 23,
   "metadata": {},
   "outputs": [],
   "source": [
    "# Agregando los 7 aeropuertos que no se encuentran en la data de aeropuertos usando el metodo de concatenacion\n",
    "# ID_Aeropuerto: AZA\n",
    "aeropuertos = pd.concat([aeropuertos, pd.DataFrame({'ID_Aeropuerto': ['AZA'], 'Aeropuerto': ['Phoenix-Mesa Gateway'], 'Ciudad': ['Mesa'], 'Estado': ['AZ'], 'Latitud': [33.3078], 'Longitud': [-111.655]})], ignore_index=True)\n",
    "# ID_Aeropuerto: BKG\n",
    "aeropuertos = pd.concat([aeropuertos, pd.DataFrame({'ID_Aeropuerto': ['BKG'], 'Aeropuerto': ['Branson LLC'], 'Ciudad': ['Branson'], 'Estado': ['MO'], 'Latitud': [36.5317], 'Longitud': [-93.2000]})], ignore_index=True)\n",
    "# ID_Aeropuerto: ECP\n",
    "aeropuertos = pd.concat([aeropuertos, pd.DataFrame({'ID_Aeropuerto': ['ECP'], 'Aeropuerto': ['Northwest Florida Beaches International'], 'Ciudad': ['Panama City'], 'Estado': ['FL'], 'Latitud': [30.3419], 'Longitud': [-85.7978]})], ignore_index=True)\n",
    "# ID_Aeropuerto: PBG\n",
    "aeropuertos = pd.concat([aeropuertos, pd.DataFrame({'ID_Aeropuerto': ['PBG'], 'Aeropuerto': ['Plattsburgh International'], 'Ciudad': ['Plattsburgh'], 'Estado': ['NY'], 'Latitud': [44.6500], 'Longitud': [-73.4689]})], ignore_index=True)\n",
    "# ID_Aeropuerto: SPN\n",
    "aeropuertos = pd.concat([aeropuertos, pd.DataFrame({'ID_Aeropuerto': ['SPN'], 'Aeropuerto': ['Francisco C. Ada Saipan International'], 'Ciudad': ['Saipan'], 'Estado': ['MP'], 'Latitud': [15.1197], 'Longitud': [145.729]})], ignore_index=True)\n",
    "# ID_Aeropuerto: USA\n",
    "aeropuertos = pd.concat([aeropuertos, pd.DataFrame({'ID_Aeropuerto': ['USA'], 'Aeropuerto': ['Concord Regional'], 'Ciudad': ['Concord'], 'Estado': ['NC'], 'Latitud': [35.3878], 'Longitud': [-80.7097]})], ignore_index=True)  \n",
    "# ID_Aeropuerto: UST\n",
    "aeropuertos = pd.concat([aeropuertos, pd.DataFrame({'ID_Aeropuerto': ['UST'], 'Aeropuerto': ['St. Augustine'], 'Ciudad': ['St. Augustine'], 'Estado': ['FL'], 'Latitud': [29.9592], 'Longitud': [-81.3394]})], ignore_index=True)"
   ]
  },
  {
   "cell_type": "markdown",
   "metadata": {},
   "source": [
    "### Probamos si aun hay error de valores faltantes"
   ]
  },
  {
   "cell_type": "code",
   "execution_count": null,
   "metadata": {},
   "outputs": [],
   "source": [
    "# importamos la data de aeropuertosD y no tiene encabezado\n",
    "aeropuertosD = pd.read_csv('aeropuertosD.csv', header=None)\n",
    "# Cambiando los nombres de las columnas 0 por ID_Aeropuerto\n",
    "aeropuertosD.rename(columns={0: 'ID_Aeropuerto'}, inplace=True)"
   ]
  },
  {
   "cell_type": "code",
   "execution_count": null,
   "metadata": {},
   "outputs": [],
   "source": [
    "# importamos la data de aeropuertosO y no tiene encabezado\n",
    "aeropuertosO = pd.read_csv('aeropuertosO.csv', header=None)\n",
    "# Cambiando los nombres de las columnas 0 por ID_Aeropuerto\n",
    "aeropuertosO.rename(columns={0: 'ID_Aeropuerto'}, inplace=True)"
   ]
  },
  {
   "cell_type": "markdown",
   "metadata": {},
   "source": [
    "### Continuamos con el analisis"
   ]
  },
  {
   "cell_type": "code",
   "execution_count": 24,
   "metadata": {},
   "outputs": [],
   "source": [
    "# Eliminando las filas cuyo ID_Aeropuerto sea nulo\n",
    "aeropuertos.dropna(subset=['ID_Aeropuerto'], inplace=True)\n",
    "\n",
    "# Estableciendo a ID_Aeropuerto como índice\n",
    "aeropuertos.set_index('ID_Aeropuerto', inplace=True)"
   ]
  },
  {
   "cell_type": "code",
   "execution_count": 25,
   "metadata": {},
   "outputs": [],
   "source": [
    "# Exportando la data de aeropuertos a un archivo CSV\n",
    "aeropuertos.to_csv('aeropuertos.csv')"
   ]
  }
 ],
 "metadata": {
  "kernelspec": {
   "display_name": "Python 3.8.5 32-bit",
   "language": "python",
   "name": "python3"
  },
  "language_info": {
   "codemirror_mode": {
    "name": "ipython",
    "version": 3
   },
   "file_extension": ".py",
   "mimetype": "text/x-python",
   "name": "python",
   "nbconvert_exporter": "python",
   "pygments_lexer": "ipython3",
   "version": "3.8.5"
  },
  "orig_nbformat": 4,
  "vscode": {
   "interpreter": {
    "hash": "e0784752781a6d909a602a7d3022c4f4bee7a870c3a195c2e9353548b6665c26"
   }
  }
 },
 "nbformat": 4,
 "nbformat_minor": 2
}
