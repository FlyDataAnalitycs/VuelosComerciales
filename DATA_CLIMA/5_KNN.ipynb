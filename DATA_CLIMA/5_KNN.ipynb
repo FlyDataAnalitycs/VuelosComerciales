{
 "cells": [
  {
   "cell_type": "code",
   "execution_count": 17,
   "metadata": {},
   "outputs": [],
   "source": [
    "# Importamos las librerias necesarias\n",
    "import numpy as np\n",
    "import pandas as pd\n",
    "import matplotlib.pyplot as plt\n",
    "import seaborn as sns\n",
    "\n",
    "# Importamos el dataset\n",
    "data = pd.read_csv('data.csv')\n",
    "\n",
    "# Establecemos el ID_Vuelo como indice\n",
    "data.set_index('ID_Vuelo', inplace=True)"
   ]
  },
  {
   "cell_type": "markdown",
   "metadata": {},
   "source": [
    "### Planteamos el modelo de ML"
   ]
  },
  {
   "cell_type": "code",
   "execution_count": 18,
   "metadata": {},
   "outputs": [],
   "source": [
    "# Establecemos la variable dependiente: 'bool' y la independiente: ('temperatura','cobertura_nubes')\n",
    "\n",
    "y = data['bool']\n",
    "X = data[['temperatura','cobertura_nubes']]"
   ]
  },
  {
   "cell_type": "code",
   "execution_count": 19,
   "metadata": {},
   "outputs": [],
   "source": [
    "from sklearn.model_selection import train_test_split\n",
    "\n",
    "X_train, X_test, y_train, y_test = train_test_split(X, y, test_size=0.25, random_state=42) \n",
    "\n",
    "from sklearn.preprocessing import RobustScaler # StandardScaler para escalar los datos\n",
    "\n",
    "sc_X = RobustScaler()\n",
    "X_Train = sc_X.fit_transform(X_train)\n",
    "X_Test = sc_X.transform(X_test)"
   ]
  },
  {
   "cell_type": "code",
   "execution_count": 20,
   "metadata": {},
   "outputs": [],
   "source": [
    "from sklearn.neighbors import KNeighborsClassifier\n",
    "\n",
    "knn = KNeighborsClassifier(n_neighbors=19, metric='euclidean', p=1)\n",
    "# n_neighbors es el numero de vecinos mas cercanos que se van a tomar en cuenta\n",
    "# metric es la distancia que se va a utilizar para calcular la distancia entre los puntos\n",
    "# p es el exponente de la distancia que se va a utilizar para calcular la distancia entre los puntos"
   ]
  },
  {
   "cell_type": "code",
   "execution_count": 21,
   "metadata": {},
   "outputs": [
    {
     "data": {
      "text/html": [
       "<style>#sk-container-id-3 {color: black;background-color: white;}#sk-container-id-3 pre{padding: 0;}#sk-container-id-3 div.sk-toggleable {background-color: white;}#sk-container-id-3 label.sk-toggleable__label {cursor: pointer;display: block;width: 100%;margin-bottom: 0;padding: 0.3em;box-sizing: border-box;text-align: center;}#sk-container-id-3 label.sk-toggleable__label-arrow:before {content: \"▸\";float: left;margin-right: 0.25em;color: #696969;}#sk-container-id-3 label.sk-toggleable__label-arrow:hover:before {color: black;}#sk-container-id-3 div.sk-estimator:hover label.sk-toggleable__label-arrow:before {color: black;}#sk-container-id-3 div.sk-toggleable__content {max-height: 0;max-width: 0;overflow: hidden;text-align: left;background-color: #f0f8ff;}#sk-container-id-3 div.sk-toggleable__content pre {margin: 0.2em;color: black;border-radius: 0.25em;background-color: #f0f8ff;}#sk-container-id-3 input.sk-toggleable__control:checked~div.sk-toggleable__content {max-height: 200px;max-width: 100%;overflow: auto;}#sk-container-id-3 input.sk-toggleable__control:checked~label.sk-toggleable__label-arrow:before {content: \"▾\";}#sk-container-id-3 div.sk-estimator input.sk-toggleable__control:checked~label.sk-toggleable__label {background-color: #d4ebff;}#sk-container-id-3 div.sk-label input.sk-toggleable__control:checked~label.sk-toggleable__label {background-color: #d4ebff;}#sk-container-id-3 input.sk-hidden--visually {border: 0;clip: rect(1px 1px 1px 1px);clip: rect(1px, 1px, 1px, 1px);height: 1px;margin: -1px;overflow: hidden;padding: 0;position: absolute;width: 1px;}#sk-container-id-3 div.sk-estimator {font-family: monospace;background-color: #f0f8ff;border: 1px dotted black;border-radius: 0.25em;box-sizing: border-box;margin-bottom: 0.5em;}#sk-container-id-3 div.sk-estimator:hover {background-color: #d4ebff;}#sk-container-id-3 div.sk-parallel-item::after {content: \"\";width: 100%;border-bottom: 1px solid gray;flex-grow: 1;}#sk-container-id-3 div.sk-label:hover label.sk-toggleable__label {background-color: #d4ebff;}#sk-container-id-3 div.sk-serial::before {content: \"\";position: absolute;border-left: 1px solid gray;box-sizing: border-box;top: 0;bottom: 0;left: 50%;z-index: 0;}#sk-container-id-3 div.sk-serial {display: flex;flex-direction: column;align-items: center;background-color: white;padding-right: 0.2em;padding-left: 0.2em;position: relative;}#sk-container-id-3 div.sk-item {position: relative;z-index: 1;}#sk-container-id-3 div.sk-parallel {display: flex;align-items: stretch;justify-content: center;background-color: white;position: relative;}#sk-container-id-3 div.sk-item::before, #sk-container-id-3 div.sk-parallel-item::before {content: \"\";position: absolute;border-left: 1px solid gray;box-sizing: border-box;top: 0;bottom: 0;left: 50%;z-index: -1;}#sk-container-id-3 div.sk-parallel-item {display: flex;flex-direction: column;z-index: 1;position: relative;background-color: white;}#sk-container-id-3 div.sk-parallel-item:first-child::after {align-self: flex-end;width: 50%;}#sk-container-id-3 div.sk-parallel-item:last-child::after {align-self: flex-start;width: 50%;}#sk-container-id-3 div.sk-parallel-item:only-child::after {width: 0;}#sk-container-id-3 div.sk-dashed-wrapped {border: 1px dashed gray;margin: 0 0.4em 0.5em 0.4em;box-sizing: border-box;padding-bottom: 0.4em;background-color: white;}#sk-container-id-3 div.sk-label label {font-family: monospace;font-weight: bold;display: inline-block;line-height: 1.2em;}#sk-container-id-3 div.sk-label-container {text-align: center;}#sk-container-id-3 div.sk-container {/* jupyter's `normalize.less` sets `[hidden] { display: none; }` but bootstrap.min.css set `[hidden] { display: none !important; }` so we also need the `!important` here to be able to override the default hidden behavior on the sphinx rendered scikit-learn.org. See: https://github.com/scikit-learn/scikit-learn/issues/21755 */display: inline-block !important;position: relative;}#sk-container-id-3 div.sk-text-repr-fallback {display: none;}</style><div id=\"sk-container-id-3\" class=\"sk-top-container\"><div class=\"sk-text-repr-fallback\"><pre>KNeighborsClassifier(metric=&#x27;euclidean&#x27;, n_neighbors=19, p=1)</pre><b>In a Jupyter environment, please rerun this cell to show the HTML representation or trust the notebook. <br />On GitHub, the HTML representation is unable to render, please try loading this page with nbviewer.org.</b></div><div class=\"sk-container\" hidden><div class=\"sk-item\"><div class=\"sk-estimator sk-toggleable\"><input class=\"sk-toggleable__control sk-hidden--visually\" id=\"sk-estimator-id-5\" type=\"checkbox\" checked><label for=\"sk-estimator-id-5\" class=\"sk-toggleable__label sk-toggleable__label-arrow\">KNeighborsClassifier</label><div class=\"sk-toggleable__content\"><pre>KNeighborsClassifier(metric=&#x27;euclidean&#x27;, n_neighbors=19, p=1)</pre></div></div></div></div></div>"
      ],
      "text/plain": [
       "KNeighborsClassifier(metric='euclidean', n_neighbors=19, p=1)"
      ]
     },
     "execution_count": 21,
     "metadata": {},
     "output_type": "execute_result"
    }
   ],
   "source": [
    "knn.fit(X_train, y_train)"
   ]
  },
  {
   "cell_type": "code",
   "execution_count": 22,
   "metadata": {},
   "outputs": [
    {
     "name": "stderr",
     "output_type": "stream",
     "text": [
      "c:\\Users\\GIGABYTE\\AppData\\Local\\Programs\\Python\\Python38-32\\lib\\site-packages\\sklearn\\base.py:450: UserWarning: X does not have valid feature names, but KNeighborsClassifier was fitted with feature names\n",
      "  warnings.warn(\n"
     ]
    }
   ],
   "source": [
    "y_pred = knn.predict(X_Test)"
   ]
  },
  {
   "cell_type": "code",
   "execution_count": 23,
   "metadata": {},
   "outputs": [
    {
     "name": "stdout",
     "output_type": "stream",
     "text": [
      "La precisión del modelo es:  0.30533671302322396\n"
     ]
    }
   ],
   "source": [
    "from sklearn.metrics import accuracy_score\n",
    "print(\"La precisión del modelo es: \", accuracy_score(y_test,y_pred))"
   ]
  },
  {
   "cell_type": "code",
   "execution_count": 24,
   "metadata": {},
   "outputs": [
    {
     "name": "stdout",
     "output_type": "stream",
     "text": [
      "la matriz de confusión es: \n",
      " [[1393 5944]\n",
      " [4196 3064]]\n"
     ]
    }
   ],
   "source": [
    "from sklearn.metrics import confusion_matrix\n",
    "matriz = confusion_matrix(y_test, y_pred)\n",
    "print('la matriz de confusión es: \\n', matriz)"
   ]
  },
  {
   "cell_type": "markdown",
   "metadata": {},
   "source": [
    "### Optimizando los hiperparámetros"
   ]
  },
  {
   "cell_type": "code",
   "execution_count": 9,
   "metadata": {},
   "outputs": [],
   "source": [
    "param_grid = {'n_neighbors':np.arange(1, 20),\n",
    "              'p':[1,2,3,5,8,13],\n",
    "              'metric':['euclidean', 'manhattan', 'chebyshev', 'minkowski']}"
   ]
  },
  {
   "cell_type": "code",
   "execution_count": 10,
   "metadata": {},
   "outputs": [
    {
     "data": {
      "text/html": [
       "<style>#sk-container-id-2 {color: black;background-color: white;}#sk-container-id-2 pre{padding: 0;}#sk-container-id-2 div.sk-toggleable {background-color: white;}#sk-container-id-2 label.sk-toggleable__label {cursor: pointer;display: block;width: 100%;margin-bottom: 0;padding: 0.3em;box-sizing: border-box;text-align: center;}#sk-container-id-2 label.sk-toggleable__label-arrow:before {content: \"▸\";float: left;margin-right: 0.25em;color: #696969;}#sk-container-id-2 label.sk-toggleable__label-arrow:hover:before {color: black;}#sk-container-id-2 div.sk-estimator:hover label.sk-toggleable__label-arrow:before {color: black;}#sk-container-id-2 div.sk-toggleable__content {max-height: 0;max-width: 0;overflow: hidden;text-align: left;background-color: #f0f8ff;}#sk-container-id-2 div.sk-toggleable__content pre {margin: 0.2em;color: black;border-radius: 0.25em;background-color: #f0f8ff;}#sk-container-id-2 input.sk-toggleable__control:checked~div.sk-toggleable__content {max-height: 200px;max-width: 100%;overflow: auto;}#sk-container-id-2 input.sk-toggleable__control:checked~label.sk-toggleable__label-arrow:before {content: \"▾\";}#sk-container-id-2 div.sk-estimator input.sk-toggleable__control:checked~label.sk-toggleable__label {background-color: #d4ebff;}#sk-container-id-2 div.sk-label input.sk-toggleable__control:checked~label.sk-toggleable__label {background-color: #d4ebff;}#sk-container-id-2 input.sk-hidden--visually {border: 0;clip: rect(1px 1px 1px 1px);clip: rect(1px, 1px, 1px, 1px);height: 1px;margin: -1px;overflow: hidden;padding: 0;position: absolute;width: 1px;}#sk-container-id-2 div.sk-estimator {font-family: monospace;background-color: #f0f8ff;border: 1px dotted black;border-radius: 0.25em;box-sizing: border-box;margin-bottom: 0.5em;}#sk-container-id-2 div.sk-estimator:hover {background-color: #d4ebff;}#sk-container-id-2 div.sk-parallel-item::after {content: \"\";width: 100%;border-bottom: 1px solid gray;flex-grow: 1;}#sk-container-id-2 div.sk-label:hover label.sk-toggleable__label {background-color: #d4ebff;}#sk-container-id-2 div.sk-serial::before {content: \"\";position: absolute;border-left: 1px solid gray;box-sizing: border-box;top: 0;bottom: 0;left: 50%;z-index: 0;}#sk-container-id-2 div.sk-serial {display: flex;flex-direction: column;align-items: center;background-color: white;padding-right: 0.2em;padding-left: 0.2em;position: relative;}#sk-container-id-2 div.sk-item {position: relative;z-index: 1;}#sk-container-id-2 div.sk-parallel {display: flex;align-items: stretch;justify-content: center;background-color: white;position: relative;}#sk-container-id-2 div.sk-item::before, #sk-container-id-2 div.sk-parallel-item::before {content: \"\";position: absolute;border-left: 1px solid gray;box-sizing: border-box;top: 0;bottom: 0;left: 50%;z-index: -1;}#sk-container-id-2 div.sk-parallel-item {display: flex;flex-direction: column;z-index: 1;position: relative;background-color: white;}#sk-container-id-2 div.sk-parallel-item:first-child::after {align-self: flex-end;width: 50%;}#sk-container-id-2 div.sk-parallel-item:last-child::after {align-self: flex-start;width: 50%;}#sk-container-id-2 div.sk-parallel-item:only-child::after {width: 0;}#sk-container-id-2 div.sk-dashed-wrapped {border: 1px dashed gray;margin: 0 0.4em 0.5em 0.4em;box-sizing: border-box;padding-bottom: 0.4em;background-color: white;}#sk-container-id-2 div.sk-label label {font-family: monospace;font-weight: bold;display: inline-block;line-height: 1.2em;}#sk-container-id-2 div.sk-label-container {text-align: center;}#sk-container-id-2 div.sk-container {/* jupyter's `normalize.less` sets `[hidden] { display: none; }` but bootstrap.min.css set `[hidden] { display: none !important; }` so we also need the `!important` here to be able to override the default hidden behavior on the sphinx rendered scikit-learn.org. See: https://github.com/scikit-learn/scikit-learn/issues/21755 */display: inline-block !important;position: relative;}#sk-container-id-2 div.sk-text-repr-fallback {display: none;}</style><div id=\"sk-container-id-2\" class=\"sk-top-container\"><div class=\"sk-text-repr-fallback\"><pre>GridSearchCV(cv=5, estimator=KNeighborsClassifier(),\n",
       "             param_grid={&#x27;metric&#x27;: [&#x27;euclidean&#x27;, &#x27;manhattan&#x27;, &#x27;chebyshev&#x27;,\n",
       "                                    &#x27;minkowski&#x27;],\n",
       "                         &#x27;n_neighbors&#x27;: array([ 1,  2,  3,  4,  5,  6,  7,  8,  9, 10, 11, 12, 13, 14, 15, 16, 17,\n",
       "       18, 19]),\n",
       "                         &#x27;p&#x27;: [1, 2, 3, 5, 8, 13]},\n",
       "             scoring=&#x27;roc_auc&#x27;)</pre><b>In a Jupyter environment, please rerun this cell to show the HTML representation or trust the notebook. <br />On GitHub, the HTML representation is unable to render, please try loading this page with nbviewer.org.</b></div><div class=\"sk-container\" hidden><div class=\"sk-item sk-dashed-wrapped\"><div class=\"sk-label-container\"><div class=\"sk-label sk-toggleable\"><input class=\"sk-toggleable__control sk-hidden--visually\" id=\"sk-estimator-id-2\" type=\"checkbox\" ><label for=\"sk-estimator-id-2\" class=\"sk-toggleable__label sk-toggleable__label-arrow\">GridSearchCV</label><div class=\"sk-toggleable__content\"><pre>GridSearchCV(cv=5, estimator=KNeighborsClassifier(),\n",
       "             param_grid={&#x27;metric&#x27;: [&#x27;euclidean&#x27;, &#x27;manhattan&#x27;, &#x27;chebyshev&#x27;,\n",
       "                                    &#x27;minkowski&#x27;],\n",
       "                         &#x27;n_neighbors&#x27;: array([ 1,  2,  3,  4,  5,  6,  7,  8,  9, 10, 11, 12, 13, 14, 15, 16, 17,\n",
       "       18, 19]),\n",
       "                         &#x27;p&#x27;: [1, 2, 3, 5, 8, 13]},\n",
       "             scoring=&#x27;roc_auc&#x27;)</pre></div></div></div><div class=\"sk-parallel\"><div class=\"sk-parallel-item\"><div class=\"sk-item\"><div class=\"sk-label-container\"><div class=\"sk-label sk-toggleable\"><input class=\"sk-toggleable__control sk-hidden--visually\" id=\"sk-estimator-id-3\" type=\"checkbox\" ><label for=\"sk-estimator-id-3\" class=\"sk-toggleable__label sk-toggleable__label-arrow\">estimator: KNeighborsClassifier</label><div class=\"sk-toggleable__content\"><pre>KNeighborsClassifier()</pre></div></div></div><div class=\"sk-serial\"><div class=\"sk-item\"><div class=\"sk-estimator sk-toggleable\"><input class=\"sk-toggleable__control sk-hidden--visually\" id=\"sk-estimator-id-4\" type=\"checkbox\" ><label for=\"sk-estimator-id-4\" class=\"sk-toggleable__label sk-toggleable__label-arrow\">KNeighborsClassifier</label><div class=\"sk-toggleable__content\"><pre>KNeighborsClassifier()</pre></div></div></div></div></div></div></div></div></div></div>"
      ],
      "text/plain": [
       "GridSearchCV(cv=5, estimator=KNeighborsClassifier(),\n",
       "             param_grid={'metric': ['euclidean', 'manhattan', 'chebyshev',\n",
       "                                    'minkowski'],\n",
       "                         'n_neighbors': array([ 1,  2,  3,  4,  5,  6,  7,  8,  9, 10, 11, 12, 13, 14, 15, 16, 17,\n",
       "       18, 19]),\n",
       "                         'p': [1, 2, 3, 5, 8, 13]},\n",
       "             scoring='roc_auc')"
      ]
     },
     "execution_count": 10,
     "metadata": {},
     "output_type": "execute_result"
    }
   ],
   "source": [
    "knn = KNeighborsClassifier()\n",
    "\n",
    "from sklearn.model_selection import GridSearchCV\n",
    "\n",
    "model = GridSearchCV(knn, param_grid=param_grid, refit=True, cv=5, scoring='roc_auc')\n",
    "\n",
    "model.fit(X_train, y_train)"
   ]
  },
  {
   "cell_type": "code",
   "execution_count": 11,
   "metadata": {},
   "outputs": [
    {
     "name": "stdout",
     "output_type": "stream",
     "text": [
      "Mejores hiperparámetros: {'metric': 'euclidean', 'n_neighbors': 19, 'p': 1}\n",
      "\n",
      "Mejor Score: 0.8417475723957037\n",
      "\n",
      "El accuracy del modelo es:  0.7765979310817291\n"
     ]
    }
   ],
   "source": [
    "print(\"Mejores hiperparámetros: \"+str(model.best_params_)+'\\n')\n",
    "print(\"Mejor Score: \"+str(model.best_score_)+'\\n')\n",
    "print('El accuracy del modelo es: ', accuracy_score(y_test, model.predict(X_test)))"
   ]
  },
  {
   "cell_type": "code",
   "execution_count": 12,
   "metadata": {},
   "outputs": [
    {
     "data": {
      "text/html": [
       "<div>\n",
       "<style scoped>\n",
       "    .dataframe tbody tr th:only-of-type {\n",
       "        vertical-align: middle;\n",
       "    }\n",
       "\n",
       "    .dataframe tbody tr th {\n",
       "        vertical-align: top;\n",
       "    }\n",
       "\n",
       "    .dataframe thead th {\n",
       "        text-align: right;\n",
       "    }\n",
       "</style>\n",
       "<table border=\"1\" class=\"dataframe\">\n",
       "  <thead>\n",
       "    <tr style=\"text-align: right;\">\n",
       "      <th></th>\n",
       "      <th>mean_fit_time</th>\n",
       "      <th>std_fit_time</th>\n",
       "      <th>mean_score_time</th>\n",
       "      <th>std_score_time</th>\n",
       "      <th>param_metric</th>\n",
       "      <th>param_n_neighbors</th>\n",
       "      <th>param_p</th>\n",
       "      <th>params</th>\n",
       "      <th>split0_test_score</th>\n",
       "      <th>split1_test_score</th>\n",
       "      <th>split2_test_score</th>\n",
       "      <th>split3_test_score</th>\n",
       "      <th>split4_test_score</th>\n",
       "      <th>mean_test_score</th>\n",
       "      <th>std_test_score</th>\n",
       "      <th>rank_test_score</th>\n",
       "    </tr>\n",
       "  </thead>\n",
       "  <tbody>\n",
       "    <tr>\n",
       "      <th>0</th>\n",
       "      <td>0.049636</td>\n",
       "      <td>0.008709</td>\n",
       "      <td>0.070848</td>\n",
       "      <td>0.002321</td>\n",
       "      <td>euclidean</td>\n",
       "      <td>1</td>\n",
       "      <td>1</td>\n",
       "      <td>{'metric': 'euclidean', 'n_neighbors': 1, 'p': 1}</td>\n",
       "      <td>0.667487</td>\n",
       "      <td>0.692138</td>\n",
       "      <td>0.698059</td>\n",
       "      <td>0.665946</td>\n",
       "      <td>0.694827</td>\n",
       "      <td>0.683691</td>\n",
       "      <td>0.013995</td>\n",
       "      <td>433</td>\n",
       "    </tr>\n",
       "    <tr>\n",
       "      <th>1</th>\n",
       "      <td>0.045033</td>\n",
       "      <td>0.000635</td>\n",
       "      <td>0.069055</td>\n",
       "      <td>0.000636</td>\n",
       "      <td>euclidean</td>\n",
       "      <td>1</td>\n",
       "      <td>2</td>\n",
       "      <td>{'metric': 'euclidean', 'n_neighbors': 1, 'p': 2}</td>\n",
       "      <td>0.667487</td>\n",
       "      <td>0.692138</td>\n",
       "      <td>0.698059</td>\n",
       "      <td>0.665946</td>\n",
       "      <td>0.694827</td>\n",
       "      <td>0.683691</td>\n",
       "      <td>0.013995</td>\n",
       "      <td>433</td>\n",
       "    </tr>\n",
       "    <tr>\n",
       "      <th>2</th>\n",
       "      <td>0.046231</td>\n",
       "      <td>0.000396</td>\n",
       "      <td>0.073054</td>\n",
       "      <td>0.006783</td>\n",
       "      <td>euclidean</td>\n",
       "      <td>1</td>\n",
       "      <td>3</td>\n",
       "      <td>{'metric': 'euclidean', 'n_neighbors': 1, 'p': 3}</td>\n",
       "      <td>0.667487</td>\n",
       "      <td>0.692138</td>\n",
       "      <td>0.698059</td>\n",
       "      <td>0.665946</td>\n",
       "      <td>0.694827</td>\n",
       "      <td>0.683691</td>\n",
       "      <td>0.013995</td>\n",
       "      <td>433</td>\n",
       "    </tr>\n",
       "    <tr>\n",
       "      <th>3</th>\n",
       "      <td>0.046236</td>\n",
       "      <td>0.001937</td>\n",
       "      <td>0.073854</td>\n",
       "      <td>0.009650</td>\n",
       "      <td>euclidean</td>\n",
       "      <td>1</td>\n",
       "      <td>5</td>\n",
       "      <td>{'metric': 'euclidean', 'n_neighbors': 1, 'p': 5}</td>\n",
       "      <td>0.667487</td>\n",
       "      <td>0.692138</td>\n",
       "      <td>0.698059</td>\n",
       "      <td>0.665946</td>\n",
       "      <td>0.694827</td>\n",
       "      <td>0.683691</td>\n",
       "      <td>0.013995</td>\n",
       "      <td>433</td>\n",
       "    </tr>\n",
       "    <tr>\n",
       "      <th>4</th>\n",
       "      <td>0.046834</td>\n",
       "      <td>0.003126</td>\n",
       "      <td>0.072051</td>\n",
       "      <td>0.002895</td>\n",
       "      <td>euclidean</td>\n",
       "      <td>1</td>\n",
       "      <td>8</td>\n",
       "      <td>{'metric': 'euclidean', 'n_neighbors': 1, 'p': 8}</td>\n",
       "      <td>0.667487</td>\n",
       "      <td>0.692138</td>\n",
       "      <td>0.698059</td>\n",
       "      <td>0.665946</td>\n",
       "      <td>0.694827</td>\n",
       "      <td>0.683691</td>\n",
       "      <td>0.013995</td>\n",
       "      <td>433</td>\n",
       "    </tr>\n",
       "    <tr>\n",
       "      <th>...</th>\n",
       "      <td>...</td>\n",
       "      <td>...</td>\n",
       "      <td>...</td>\n",
       "      <td>...</td>\n",
       "      <td>...</td>\n",
       "      <td>...</td>\n",
       "      <td>...</td>\n",
       "      <td>...</td>\n",
       "      <td>...</td>\n",
       "      <td>...</td>\n",
       "      <td>...</td>\n",
       "      <td>...</td>\n",
       "      <td>...</td>\n",
       "      <td>...</td>\n",
       "      <td>...</td>\n",
       "      <td>...</td>\n",
       "    </tr>\n",
       "    <tr>\n",
       "      <th>451</th>\n",
       "      <td>0.052837</td>\n",
       "      <td>0.000750</td>\n",
       "      <td>0.114683</td>\n",
       "      <td>0.001497</td>\n",
       "      <td>minkowski</td>\n",
       "      <td>19</td>\n",
       "      <td>2</td>\n",
       "      <td>{'metric': 'minkowski', 'n_neighbors': 19, 'p'...</td>\n",
       "      <td>0.838580</td>\n",
       "      <td>0.844385</td>\n",
       "      <td>0.838747</td>\n",
       "      <td>0.840172</td>\n",
       "      <td>0.846854</td>\n",
       "      <td>0.841748</td>\n",
       "      <td>0.003303</td>\n",
       "      <td>1</td>\n",
       "    </tr>\n",
       "    <tr>\n",
       "      <th>452</th>\n",
       "      <td>0.052839</td>\n",
       "      <td>0.001166</td>\n",
       "      <td>0.277799</td>\n",
       "      <td>0.004931</td>\n",
       "      <td>minkowski</td>\n",
       "      <td>19</td>\n",
       "      <td>3</td>\n",
       "      <td>{'metric': 'minkowski', 'n_neighbors': 19, 'p'...</td>\n",
       "      <td>0.838438</td>\n",
       "      <td>0.844301</td>\n",
       "      <td>0.838745</td>\n",
       "      <td>0.840238</td>\n",
       "      <td>0.846774</td>\n",
       "      <td>0.841699</td>\n",
       "      <td>0.003287</td>\n",
       "      <td>15</td>\n",
       "    </tr>\n",
       "    <tr>\n",
       "      <th>453</th>\n",
       "      <td>0.051441</td>\n",
       "      <td>0.000802</td>\n",
       "      <td>0.279396</td>\n",
       "      <td>0.008841</td>\n",
       "      <td>minkowski</td>\n",
       "      <td>19</td>\n",
       "      <td>5</td>\n",
       "      <td>{'metric': 'minkowski', 'n_neighbors': 19, 'p'...</td>\n",
       "      <td>0.838427</td>\n",
       "      <td>0.844267</td>\n",
       "      <td>0.838693</td>\n",
       "      <td>0.840234</td>\n",
       "      <td>0.846766</td>\n",
       "      <td>0.841678</td>\n",
       "      <td>0.003291</td>\n",
       "      <td>16</td>\n",
       "    </tr>\n",
       "    <tr>\n",
       "      <th>454</th>\n",
       "      <td>0.063247</td>\n",
       "      <td>0.022927</td>\n",
       "      <td>0.277598</td>\n",
       "      <td>0.006288</td>\n",
       "      <td>minkowski</td>\n",
       "      <td>19</td>\n",
       "      <td>8</td>\n",
       "      <td>{'metric': 'minkowski', 'n_neighbors': 19, 'p'...</td>\n",
       "      <td>0.838377</td>\n",
       "      <td>0.844273</td>\n",
       "      <td>0.838645</td>\n",
       "      <td>0.840230</td>\n",
       "      <td>0.846766</td>\n",
       "      <td>0.841658</td>\n",
       "      <td>0.003311</td>\n",
       "      <td>18</td>\n",
       "    </tr>\n",
       "    <tr>\n",
       "      <th>455</th>\n",
       "      <td>0.052039</td>\n",
       "      <td>0.000893</td>\n",
       "      <td>0.275194</td>\n",
       "      <td>0.004291</td>\n",
       "      <td>minkowski</td>\n",
       "      <td>19</td>\n",
       "      <td>13</td>\n",
       "      <td>{'metric': 'minkowski', 'n_neighbors': 19, 'p'...</td>\n",
       "      <td>0.838353</td>\n",
       "      <td>0.844286</td>\n",
       "      <td>0.838670</td>\n",
       "      <td>0.840230</td>\n",
       "      <td>0.846774</td>\n",
       "      <td>0.841663</td>\n",
       "      <td>0.003316</td>\n",
       "      <td>17</td>\n",
       "    </tr>\n",
       "  </tbody>\n",
       "</table>\n",
       "<p>456 rows × 16 columns</p>\n",
       "</div>"
      ],
      "text/plain": [
       "     mean_fit_time  std_fit_time  mean_score_time  std_score_time  \\\n",
       "0         0.049636      0.008709         0.070848        0.002321   \n",
       "1         0.045033      0.000635         0.069055        0.000636   \n",
       "2         0.046231      0.000396         0.073054        0.006783   \n",
       "3         0.046236      0.001937         0.073854        0.009650   \n",
       "4         0.046834      0.003126         0.072051        0.002895   \n",
       "..             ...           ...              ...             ...   \n",
       "451       0.052837      0.000750         0.114683        0.001497   \n",
       "452       0.052839      0.001166         0.277799        0.004931   \n",
       "453       0.051441      0.000802         0.279396        0.008841   \n",
       "454       0.063247      0.022927         0.277598        0.006288   \n",
       "455       0.052039      0.000893         0.275194        0.004291   \n",
       "\n",
       "    param_metric param_n_neighbors param_p  \\\n",
       "0      euclidean                 1       1   \n",
       "1      euclidean                 1       2   \n",
       "2      euclidean                 1       3   \n",
       "3      euclidean                 1       5   \n",
       "4      euclidean                 1       8   \n",
       "..           ...               ...     ...   \n",
       "451    minkowski                19       2   \n",
       "452    minkowski                19       3   \n",
       "453    minkowski                19       5   \n",
       "454    minkowski                19       8   \n",
       "455    minkowski                19      13   \n",
       "\n",
       "                                                params  split0_test_score  \\\n",
       "0    {'metric': 'euclidean', 'n_neighbors': 1, 'p': 1}           0.667487   \n",
       "1    {'metric': 'euclidean', 'n_neighbors': 1, 'p': 2}           0.667487   \n",
       "2    {'metric': 'euclidean', 'n_neighbors': 1, 'p': 3}           0.667487   \n",
       "3    {'metric': 'euclidean', 'n_neighbors': 1, 'p': 5}           0.667487   \n",
       "4    {'metric': 'euclidean', 'n_neighbors': 1, 'p': 8}           0.667487   \n",
       "..                                                 ...                ...   \n",
       "451  {'metric': 'minkowski', 'n_neighbors': 19, 'p'...           0.838580   \n",
       "452  {'metric': 'minkowski', 'n_neighbors': 19, 'p'...           0.838438   \n",
       "453  {'metric': 'minkowski', 'n_neighbors': 19, 'p'...           0.838427   \n",
       "454  {'metric': 'minkowski', 'n_neighbors': 19, 'p'...           0.838377   \n",
       "455  {'metric': 'minkowski', 'n_neighbors': 19, 'p'...           0.838353   \n",
       "\n",
       "     split1_test_score  split2_test_score  split3_test_score  \\\n",
       "0             0.692138           0.698059           0.665946   \n",
       "1             0.692138           0.698059           0.665946   \n",
       "2             0.692138           0.698059           0.665946   \n",
       "3             0.692138           0.698059           0.665946   \n",
       "4             0.692138           0.698059           0.665946   \n",
       "..                 ...                ...                ...   \n",
       "451           0.844385           0.838747           0.840172   \n",
       "452           0.844301           0.838745           0.840238   \n",
       "453           0.844267           0.838693           0.840234   \n",
       "454           0.844273           0.838645           0.840230   \n",
       "455           0.844286           0.838670           0.840230   \n",
       "\n",
       "     split4_test_score  mean_test_score  std_test_score  rank_test_score  \n",
       "0             0.694827         0.683691        0.013995              433  \n",
       "1             0.694827         0.683691        0.013995              433  \n",
       "2             0.694827         0.683691        0.013995              433  \n",
       "3             0.694827         0.683691        0.013995              433  \n",
       "4             0.694827         0.683691        0.013995              433  \n",
       "..                 ...              ...             ...              ...  \n",
       "451           0.846854         0.841748        0.003303                1  \n",
       "452           0.846774         0.841699        0.003287               15  \n",
       "453           0.846766         0.841678        0.003291               16  \n",
       "454           0.846766         0.841658        0.003311               18  \n",
       "455           0.846774         0.841663        0.003316               17  \n",
       "\n",
       "[456 rows x 16 columns]"
      ]
     },
     "execution_count": 12,
     "metadata": {},
     "output_type": "execute_result"
    }
   ],
   "source": [
    "scores = pd.DataFrame(model.cv_results_)\n",
    "scores"
   ]
  },
  {
   "cell_type": "code",
   "execution_count": 13,
   "metadata": {},
   "outputs": [],
   "source": [
    "#Predecimos en los datos de test con el mejor modelo obtenido\n",
    "prediction = model.predict(X_test)\n",
    "\n",
    "from sklearn.metrics import confusion_matrix\n",
    "matrix = confusion_matrix(y_test, prediction)"
   ]
  },
  {
   "cell_type": "code",
   "execution_count": 14,
   "metadata": {},
   "outputs": [
    {
     "data": {
      "image/png": "[encoded data removed]",
      "text/plain": [
       "<Figure size 288x360 with 1 Axes>"
      ]
     },
     "metadata": {
      "needs_background": "light"
     },
     "output_type": "display_data"
    }
   ],
   "source": [
    "from sklearn.metrics import ConfusionMatrixDisplay\n",
    "\n",
    "cm_display = ConfusionMatrixDisplay(matrix)\n",
    "\n",
    "fig, ax = plt.subplots(figsize=(4,5))\n",
    "ax.matshow(matrix)\n",
    "for (i, j), z in np.ndenumerate(matrix):\n",
    "    ax.text(j, i, '{:0.1f}'.format(z), ha='center', va='center')\n",
    "plt.show()"
   ]
  },
  {
   "cell_type": "code",
   "execution_count": 15,
   "metadata": {},
   "outputs": [
    {
     "name": "stdout",
     "output_type": "stream",
     "text": [
      "Recall: 0.8023415977961432\n",
      "Reporte de Clasificación:\n",
      "              precision    recall  f1-score   support\n",
      "\n",
      "           0       0.79      0.75      0.77      7337\n",
      "           1       0.76      0.80      0.78      7260\n",
      "\n",
      "    accuracy                           0.78     14597\n",
      "   macro avg       0.78      0.78      0.78     14597\n",
      "weighted avg       0.78      0.78      0.78     14597\n",
      "\n"
     ]
    }
   ],
   "source": [
    "from sklearn.metrics import recall_score\n",
    "print('Recall:', recall_score(y_test, prediction))\n",
    "\n",
    "# Reporte de Clasificacion\n",
    "from sklearn.metrics import classification_report\n",
    "report = classification_report(y_test, prediction)\n",
    "print(\"Reporte de Clasificación:\")\n",
    "print(report)"
   ]
  },
  {
   "cell_type": "code",
   "execution_count": 16,
   "metadata": {},
   "outputs": [
    {
     "name": "stdout",
     "output_type": "stream",
     "text": [
      "El roc_auc_score es:  0.7767330177886264\n"
     ]
    }
   ],
   "source": [
    "from sklearn.metrics import roc_auc_score\n",
    "print(\"El roc_auc_score es: \", roc_auc_score(y_test, prediction))"
   ]
  }
 ],
 "metadata": {
  "kernelspec": {
   "display_name": "Python 3.8.5 32-bit",
   "language": "python",
   "name": "python3"
  },
  "language_info": {
   "codemirror_mode": {
    "name": "ipython",
    "version": 3
   },
   "file_extension": ".py",
   "mimetype": "text/x-python",
   "name": "python",
   "nbconvert_exporter": "python",
   "pygments_lexer": "ipython3",
   "version": "3.8.5"
  },
  "orig_nbformat": 4,
  "vscode": {
   "interpreter": {
    "hash": "e0784752781a6d909a602a7d3022c4f4bee7a870c3a195c2e9353548b6665c26"
   }
  }
 },
 "nbformat": 4,
 "nbformat_minor": 2
}
