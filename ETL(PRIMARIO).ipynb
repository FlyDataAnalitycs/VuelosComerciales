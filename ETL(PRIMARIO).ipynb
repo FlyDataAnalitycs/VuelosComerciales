{
 "cells": [
  {
   "cell_type": "code",
   "execution_count": null,
   "metadata": {},
   "outputs": [],
   "source": [
    "import pandas as pd\n",
    "from datetime import date"
   ]
  },
  {
   "cell_type": "code",
   "execution_count": null,
   "metadata": {},
   "outputs": [],
   "source": [
    "# Seleccion de columnas relevantes\n",
    "# datasets (2009 - 2018)\n",
    "columns_data = ['FL_DATE','OP_CARRIER','ORIGIN','CRS_DEP_TIME','DEP_TIME','DEP_DELAY',\n",
    "                'DEST','CRS_ARR_TIME','ARR_TIME','ARR_DELAY','CRS_ELAPSED_TIME',\n",
    "                'DISTANCE','CANCELLED','CANCELLATION_CODE','CARRIER_DELAY',\n",
    "                'WEATHER_DELAY','NAS_DELAY','SECURITY_DELAY','LATE_AIRCRAFT_DELAY']\n",
    "chuncksize = 900000"
   ]
  },
  {
   "cell_type": "code",
   "execution_count": null,
   "metadata": {},
   "outputs": [],
   "source": [
    "data = pd.read_csv('2009.csv',chunksize=chuncksize) \n",
    "header = True\n",
    "for df_chunck in data:\n",
    "    df = df_chunck[columns_data]\n",
    "    df.to_csv('2009_db.csv',header = header,index=False,mode = 'a')\n",
    "    header = False"
   ]
  },
  {
   "cell_type": "code",
   "execution_count": null,
   "metadata": {},
   "outputs": [],
   "source": [
    "años = [2010,2011,2012,2013,2014,2015,2016,2017,2018]\n",
    "for año in años:\n",
    "    data = pd.read_csv(f'{año}.csv',chunksize=chuncksize) \n",
    "    header = True\n",
    "    for df_chunck in data:\n",
    "        df = df_chunck[columns_data]\n",
    "        df.to_csv(f'{año}_db.csv',header = header,index=False,mode = 'a')\n",
    "        header = False"
   ]
  },
  {
   "cell_type": "code",
   "execution_count": null,
   "metadata": {},
   "outputs": [],
   "source": [
    "# Segunda parte"
   ]
  },
  {
   "cell_type": "code",
   "execution_count": null,
   "metadata": {},
   "outputs": [],
   "source": [
    "años = [2009,2010,2011,2012,2013,2014,2015,2016,2017,2018]\n",
    "for año in años:\n",
    "    data = pd.read_csv(f'{año}_db.csv')\n",
    "    meses = []\n",
    "    dias = []\n",
    "    diaSemana = []\n",
    "    for i in range(0,data.shape[0]):\n",
    "        fecha = data.loc[i,'FL_DATE']\n",
    "        temp = pd.Timestamp(fecha)\n",
    "        fecha = date.fromisoformat(fecha)\n",
    "        meses.append(fecha.month)\n",
    "        dias.append(fecha.day)\n",
    "        diaSemana.append(temp.dayofweek)\n",
    "    data['Year'] = año\n",
    "    data['Month'] = pd.Series(meses)\n",
    "    data['DayofMonth'] = pd.Series(dias)\n",
    "    data['DayOfWeek'] = pd.Series(diaSemana)\n",
    "    data = data[['Year','Month','DayofMonth','DayOfWeek','OP_CARRIER','ORIGIN','CRS_DEP_TIME','DEP_TIME','DEP_DELAY',\n",
    "                'DEST','CRS_ARR_TIME','ARR_TIME','ARR_DELAY','CRS_ELAPSED_TIME',\n",
    "                'DISTANCE','CANCELLED','CANCELLATION_CODE','CARRIER_DELAY',\n",
    "                'WEATHER_DELAY','NAS_DELAY','SECURITY_DELAY','LATE_AIRCRAFT_DELAY']]\n",
    "    data.to_csv(f'{año}.csv',index=False)"
   ]
  }
 ],
 "metadata": {
  "kernelspec": {
   "display_name": "Python 3.10.7 64-bit",
   "language": "python",
   "name": "python3"
  },
  "language_info": {
   "name": "python",
   "version": "3.10.7"
  },
  "orig_nbformat": 4,
  "vscode": {
   "interpreter": {
    "hash": "768ed05c3ef8b2c1ddddab0cec77f964ed6ea41732cd5ab8bcc435db316b9d80"
   }
  }
 },
 "nbformat": 4,
 "nbformat_minor": 2
}
